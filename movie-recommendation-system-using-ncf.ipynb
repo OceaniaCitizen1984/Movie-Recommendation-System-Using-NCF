{
 "cells": [
  {
   "cell_type": "markdown",
   "id": "e8ad6feb",
   "metadata": {
    "papermill": {
     "duration": 0.007175,
     "end_time": "2024-12-26T19:25:30.085465",
     "exception": false,
     "start_time": "2024-12-26T19:25:30.078290",
     "status": "completed"
    },
    "tags": []
   },
   "source": [
    "# Introduction"
   ]
  },
  {
   "cell_type": "markdown",
   "id": "88a29dea",
   "metadata": {
    "papermill": {
     "duration": 0.005323,
     "end_time": "2024-12-26T19:25:30.096570",
     "exception": false,
     "start_time": "2024-12-26T19:25:30.091247",
     "status": "completed"
    },
    "tags": []
   },
   "source": [
    "# Data Preparation"
   ]
  },
  {
   "cell_type": "code",
   "execution_count": 1,
   "id": "0dc22d16",
   "metadata": {
    "_cell_guid": "b1076dfc-b9ad-4769-8c92-a6c4dae69d19",
    "_uuid": "8f2839f25d086af736a60e9eeb907d3b93b6e0e5",
    "execution": {
     "iopub.execute_input": "2024-12-26T19:25:30.107582Z",
     "iopub.status.busy": "2024-12-26T19:25:30.107334Z",
     "iopub.status.idle": "2024-12-26T19:25:34.487044Z",
     "shell.execute_reply": "2024-12-26T19:25:34.486364Z"
    },
    "papermill": {
     "duration": 4.386911,
     "end_time": "2024-12-26T19:25:34.488499",
     "exception": false,
     "start_time": "2024-12-26T19:25:30.101588",
     "status": "completed"
    },
    "tags": []
   },
   "outputs": [],
   "source": [
    "import torch\n",
    "import torch.nn as nn\n",
    "import torch.optim as optim\n",
    "import numpy as np\n",
    "import pandas as pd\n",
    "from sklearn.model_selection import train_test_split\n",
    "from torch.utils.data import Dataset, DataLoader\n",
    "from sklearn.preprocessing import LabelEncoder\n",
    "import gc"
   ]
  },
  {
   "cell_type": "code",
   "execution_count": 2,
   "id": "9a22a10a",
   "metadata": {
    "execution": {
     "iopub.execute_input": "2024-12-26T19:25:34.499730Z",
     "iopub.status.busy": "2024-12-26T19:25:34.499365Z",
     "iopub.status.idle": "2024-12-26T19:25:34.668428Z",
     "shell.execute_reply": "2024-12-26T19:25:34.667531Z"
    },
    "papermill": {
     "duration": 0.175918,
     "end_time": "2024-12-26T19:25:34.669831",
     "exception": false,
     "start_time": "2024-12-26T19:25:34.493913",
     "status": "completed"
    },
    "tags": []
   },
   "outputs": [],
   "source": [
    "data_links = pd.read_csv('/kaggle/input/movie-lens-small-latest-dataset/links.csv')\n",
    "data_movies = pd.read_csv('/kaggle/input/movie-lens-small-latest-dataset/movies.csv')\n",
    "data_ratings = pd.read_csv('/kaggle/input/movie-lens-small-latest-dataset/ratings.csv')\n",
    "data_tags = pd.read_csv('/kaggle/input/movie-lens-small-latest-dataset/tags.csv')"
   ]
  },
  {
   "cell_type": "markdown",
   "id": "3ccee7cb",
   "metadata": {
    "papermill": {
     "duration": 0.004751,
     "end_time": "2024-12-26T19:25:34.679966",
     "exception": false,
     "start_time": "2024-12-26T19:25:34.675215",
     "status": "completed"
    },
    "tags": []
   },
   "source": [
    "## Data Exploration"
   ]
  },
  {
   "cell_type": "markdown",
   "id": "564828dc",
   "metadata": {
    "papermill": {
     "duration": 0.004714,
     "end_time": "2024-12-26T19:25:34.689630",
     "exception": false,
     "start_time": "2024-12-26T19:25:34.684916",
     "status": "completed"
    },
    "tags": []
   },
   "source": [
    "### Link Data"
   ]
  },
  {
   "cell_type": "code",
   "execution_count": 3,
   "id": "ef1f96cf",
   "metadata": {
    "execution": {
     "iopub.execute_input": "2024-12-26T19:25:34.700524Z",
     "iopub.status.busy": "2024-12-26T19:25:34.700243Z",
     "iopub.status.idle": "2024-12-26T19:25:34.722716Z",
     "shell.execute_reply": "2024-12-26T19:25:34.721905Z"
    },
    "papermill": {
     "duration": 0.029219,
     "end_time": "2024-12-26T19:25:34.723978",
     "exception": false,
     "start_time": "2024-12-26T19:25:34.694759",
     "status": "completed"
    },
    "tags": []
   },
   "outputs": [
    {
     "name": "stdout",
     "output_type": "stream",
     "text": [
      "<class 'pandas.core.frame.DataFrame'>\n",
      "RangeIndex: 9742 entries, 0 to 9741\n",
      "Data columns (total 3 columns):\n",
      " #   Column   Non-Null Count  Dtype  \n",
      "---  ------   --------------  -----  \n",
      " 0   movieId  9742 non-null   int64  \n",
      " 1   imdbId   9742 non-null   int64  \n",
      " 2   tmdbId   9734 non-null   float64\n",
      "dtypes: float64(1), int64(2)\n",
      "memory usage: 228.5 KB\n"
     ]
    }
   ],
   "source": [
    "data_links.info()"
   ]
  },
  {
   "cell_type": "code",
   "execution_count": 4,
   "id": "166583ce",
   "metadata": {
    "execution": {
     "iopub.execute_input": "2024-12-26T19:25:34.734792Z",
     "iopub.status.busy": "2024-12-26T19:25:34.734541Z",
     "iopub.status.idle": "2024-12-26T19:25:34.745370Z",
     "shell.execute_reply": "2024-12-26T19:25:34.744581Z"
    },
    "papermill": {
     "duration": 0.017598,
     "end_time": "2024-12-26T19:25:34.746622",
     "exception": false,
     "start_time": "2024-12-26T19:25:34.729024",
     "status": "completed"
    },
    "tags": []
   },
   "outputs": [
    {
     "data": {
      "text/html": [
       "<div>\n",
       "<style scoped>\n",
       "    .dataframe tbody tr th:only-of-type {\n",
       "        vertical-align: middle;\n",
       "    }\n",
       "\n",
       "    .dataframe tbody tr th {\n",
       "        vertical-align: top;\n",
       "    }\n",
       "\n",
       "    .dataframe thead th {\n",
       "        text-align: right;\n",
       "    }\n",
       "</style>\n",
       "<table border=\"1\" class=\"dataframe\">\n",
       "  <thead>\n",
       "    <tr style=\"text-align: right;\">\n",
       "      <th></th>\n",
       "      <th>movieId</th>\n",
       "      <th>imdbId</th>\n",
       "      <th>tmdbId</th>\n",
       "    </tr>\n",
       "  </thead>\n",
       "  <tbody>\n",
       "    <tr>\n",
       "      <th>0</th>\n",
       "      <td>1</td>\n",
       "      <td>114709</td>\n",
       "      <td>862.0</td>\n",
       "    </tr>\n",
       "    <tr>\n",
       "      <th>1</th>\n",
       "      <td>2</td>\n",
       "      <td>113497</td>\n",
       "      <td>8844.0</td>\n",
       "    </tr>\n",
       "    <tr>\n",
       "      <th>2</th>\n",
       "      <td>3</td>\n",
       "      <td>113228</td>\n",
       "      <td>15602.0</td>\n",
       "    </tr>\n",
       "    <tr>\n",
       "      <th>3</th>\n",
       "      <td>4</td>\n",
       "      <td>114885</td>\n",
       "      <td>31357.0</td>\n",
       "    </tr>\n",
       "    <tr>\n",
       "      <th>4</th>\n",
       "      <td>5</td>\n",
       "      <td>113041</td>\n",
       "      <td>11862.0</td>\n",
       "    </tr>\n",
       "  </tbody>\n",
       "</table>\n",
       "</div>"
      ],
      "text/plain": [
       "   movieId  imdbId   tmdbId\n",
       "0        1  114709    862.0\n",
       "1        2  113497   8844.0\n",
       "2        3  113228  15602.0\n",
       "3        4  114885  31357.0\n",
       "4        5  113041  11862.0"
      ]
     },
     "execution_count": 4,
     "metadata": {},
     "output_type": "execute_result"
    }
   ],
   "source": [
    "data_links.head(5)"
   ]
  },
  {
   "cell_type": "markdown",
   "id": "9dffd717",
   "metadata": {
    "papermill": {
     "duration": 0.004914,
     "end_time": "2024-12-26T19:25:34.756738",
     "exception": false,
     "start_time": "2024-12-26T19:25:34.751824",
     "status": "completed"
    },
    "tags": []
   },
   "source": [
    "### Movies Data"
   ]
  },
  {
   "cell_type": "code",
   "execution_count": 5,
   "id": "45e4170d",
   "metadata": {
    "execution": {
     "iopub.execute_input": "2024-12-26T19:25:34.767394Z",
     "iopub.status.busy": "2024-12-26T19:25:34.767171Z",
     "iopub.status.idle": "2024-12-26T19:25:34.775478Z",
     "shell.execute_reply": "2024-12-26T19:25:34.774578Z"
    },
    "papermill": {
     "duration": 0.014976,
     "end_time": "2024-12-26T19:25:34.776661",
     "exception": false,
     "start_time": "2024-12-26T19:25:34.761685",
     "status": "completed"
    },
    "tags": []
   },
   "outputs": [
    {
     "name": "stdout",
     "output_type": "stream",
     "text": [
      "<class 'pandas.core.frame.DataFrame'>\n",
      "RangeIndex: 9742 entries, 0 to 9741\n",
      "Data columns (total 3 columns):\n",
      " #   Column   Non-Null Count  Dtype \n",
      "---  ------   --------------  ----- \n",
      " 0   movieId  9742 non-null   int64 \n",
      " 1   title    9742 non-null   object\n",
      " 2   genres   9742 non-null   object\n",
      "dtypes: int64(1), object(2)\n",
      "memory usage: 228.5+ KB\n"
     ]
    }
   ],
   "source": [
    "data_movies.info()"
   ]
  },
  {
   "cell_type": "code",
   "execution_count": 6,
   "id": "9d27abdc",
   "metadata": {
    "execution": {
     "iopub.execute_input": "2024-12-26T19:25:34.788623Z",
     "iopub.status.busy": "2024-12-26T19:25:34.788392Z",
     "iopub.status.idle": "2024-12-26T19:25:34.794931Z",
     "shell.execute_reply": "2024-12-26T19:25:34.794159Z"
    },
    "papermill": {
     "duration": 0.013724,
     "end_time": "2024-12-26T19:25:34.796164",
     "exception": false,
     "start_time": "2024-12-26T19:25:34.782440",
     "status": "completed"
    },
    "tags": []
   },
   "outputs": [
    {
     "data": {
      "text/html": [
       "<div>\n",
       "<style scoped>\n",
       "    .dataframe tbody tr th:only-of-type {\n",
       "        vertical-align: middle;\n",
       "    }\n",
       "\n",
       "    .dataframe tbody tr th {\n",
       "        vertical-align: top;\n",
       "    }\n",
       "\n",
       "    .dataframe thead th {\n",
       "        text-align: right;\n",
       "    }\n",
       "</style>\n",
       "<table border=\"1\" class=\"dataframe\">\n",
       "  <thead>\n",
       "    <tr style=\"text-align: right;\">\n",
       "      <th></th>\n",
       "      <th>movieId</th>\n",
       "      <th>title</th>\n",
       "      <th>genres</th>\n",
       "    </tr>\n",
       "  </thead>\n",
       "  <tbody>\n",
       "    <tr>\n",
       "      <th>0</th>\n",
       "      <td>1</td>\n",
       "      <td>Toy Story (1995)</td>\n",
       "      <td>Adventure|Animation|Children|Comedy|Fantasy</td>\n",
       "    </tr>\n",
       "    <tr>\n",
       "      <th>1</th>\n",
       "      <td>2</td>\n",
       "      <td>Jumanji (1995)</td>\n",
       "      <td>Adventure|Children|Fantasy</td>\n",
       "    </tr>\n",
       "    <tr>\n",
       "      <th>2</th>\n",
       "      <td>3</td>\n",
       "      <td>Grumpier Old Men (1995)</td>\n",
       "      <td>Comedy|Romance</td>\n",
       "    </tr>\n",
       "    <tr>\n",
       "      <th>3</th>\n",
       "      <td>4</td>\n",
       "      <td>Waiting to Exhale (1995)</td>\n",
       "      <td>Comedy|Drama|Romance</td>\n",
       "    </tr>\n",
       "    <tr>\n",
       "      <th>4</th>\n",
       "      <td>5</td>\n",
       "      <td>Father of the Bride Part II (1995)</td>\n",
       "      <td>Comedy</td>\n",
       "    </tr>\n",
       "  </tbody>\n",
       "</table>\n",
       "</div>"
      ],
      "text/plain": [
       "   movieId                               title  \\\n",
       "0        1                    Toy Story (1995)   \n",
       "1        2                      Jumanji (1995)   \n",
       "2        3             Grumpier Old Men (1995)   \n",
       "3        4            Waiting to Exhale (1995)   \n",
       "4        5  Father of the Bride Part II (1995)   \n",
       "\n",
       "                                        genres  \n",
       "0  Adventure|Animation|Children|Comedy|Fantasy  \n",
       "1                   Adventure|Children|Fantasy  \n",
       "2                               Comedy|Romance  \n",
       "3                         Comedy|Drama|Romance  \n",
       "4                                       Comedy  "
      ]
     },
     "execution_count": 6,
     "metadata": {},
     "output_type": "execute_result"
    }
   ],
   "source": [
    "data_movies.head(5)"
   ]
  },
  {
   "cell_type": "markdown",
   "id": "3bb36cf8",
   "metadata": {
    "papermill": {
     "duration": 0.005175,
     "end_time": "2024-12-26T19:25:34.806560",
     "exception": false,
     "start_time": "2024-12-26T19:25:34.801385",
     "status": "completed"
    },
    "tags": []
   },
   "source": [
    "### Rating Data"
   ]
  },
  {
   "cell_type": "code",
   "execution_count": 7,
   "id": "b3329268",
   "metadata": {
    "execution": {
     "iopub.execute_input": "2024-12-26T19:25:34.817743Z",
     "iopub.status.busy": "2024-12-26T19:25:34.817500Z",
     "iopub.status.idle": "2024-12-26T19:25:34.824601Z",
     "shell.execute_reply": "2024-12-26T19:25:34.823893Z"
    },
    "papermill": {
     "duration": 0.014058,
     "end_time": "2024-12-26T19:25:34.825857",
     "exception": false,
     "start_time": "2024-12-26T19:25:34.811799",
     "status": "completed"
    },
    "tags": []
   },
   "outputs": [
    {
     "name": "stdout",
     "output_type": "stream",
     "text": [
      "<class 'pandas.core.frame.DataFrame'>\n",
      "RangeIndex: 100836 entries, 0 to 100835\n",
      "Data columns (total 4 columns):\n",
      " #   Column     Non-Null Count   Dtype  \n",
      "---  ------     --------------   -----  \n",
      " 0   userId     100836 non-null  int64  \n",
      " 1   movieId    100836 non-null  int64  \n",
      " 2   rating     100836 non-null  float64\n",
      " 3   timestamp  100836 non-null  int64  \n",
      "dtypes: float64(1), int64(3)\n",
      "memory usage: 3.1 MB\n"
     ]
    }
   ],
   "source": [
    "data_ratings.info()"
   ]
  },
  {
   "cell_type": "code",
   "execution_count": 8,
   "id": "e1eb0bb9",
   "metadata": {
    "execution": {
     "iopub.execute_input": "2024-12-26T19:25:34.837315Z",
     "iopub.status.busy": "2024-12-26T19:25:34.837119Z",
     "iopub.status.idle": "2024-12-26T19:25:34.843991Z",
     "shell.execute_reply": "2024-12-26T19:25:34.843217Z"
    },
    "papermill": {
     "duration": 0.014007,
     "end_time": "2024-12-26T19:25:34.845235",
     "exception": false,
     "start_time": "2024-12-26T19:25:34.831228",
     "status": "completed"
    },
    "tags": []
   },
   "outputs": [
    {
     "data": {
      "text/html": [
       "<div>\n",
       "<style scoped>\n",
       "    .dataframe tbody tr th:only-of-type {\n",
       "        vertical-align: middle;\n",
       "    }\n",
       "\n",
       "    .dataframe tbody tr th {\n",
       "        vertical-align: top;\n",
       "    }\n",
       "\n",
       "    .dataframe thead th {\n",
       "        text-align: right;\n",
       "    }\n",
       "</style>\n",
       "<table border=\"1\" class=\"dataframe\">\n",
       "  <thead>\n",
       "    <tr style=\"text-align: right;\">\n",
       "      <th></th>\n",
       "      <th>userId</th>\n",
       "      <th>movieId</th>\n",
       "      <th>rating</th>\n",
       "      <th>timestamp</th>\n",
       "    </tr>\n",
       "  </thead>\n",
       "  <tbody>\n",
       "    <tr>\n",
       "      <th>0</th>\n",
       "      <td>1</td>\n",
       "      <td>1</td>\n",
       "      <td>4.0</td>\n",
       "      <td>964982703</td>\n",
       "    </tr>\n",
       "    <tr>\n",
       "      <th>1</th>\n",
       "      <td>1</td>\n",
       "      <td>3</td>\n",
       "      <td>4.0</td>\n",
       "      <td>964981247</td>\n",
       "    </tr>\n",
       "    <tr>\n",
       "      <th>2</th>\n",
       "      <td>1</td>\n",
       "      <td>6</td>\n",
       "      <td>4.0</td>\n",
       "      <td>964982224</td>\n",
       "    </tr>\n",
       "    <tr>\n",
       "      <th>3</th>\n",
       "      <td>1</td>\n",
       "      <td>47</td>\n",
       "      <td>5.0</td>\n",
       "      <td>964983815</td>\n",
       "    </tr>\n",
       "    <tr>\n",
       "      <th>4</th>\n",
       "      <td>1</td>\n",
       "      <td>50</td>\n",
       "      <td>5.0</td>\n",
       "      <td>964982931</td>\n",
       "    </tr>\n",
       "  </tbody>\n",
       "</table>\n",
       "</div>"
      ],
      "text/plain": [
       "   userId  movieId  rating  timestamp\n",
       "0       1        1     4.0  964982703\n",
       "1       1        3     4.0  964981247\n",
       "2       1        6     4.0  964982224\n",
       "3       1       47     5.0  964983815\n",
       "4       1       50     5.0  964982931"
      ]
     },
     "execution_count": 8,
     "metadata": {},
     "output_type": "execute_result"
    }
   ],
   "source": [
    "data_ratings.head(5)"
   ]
  },
  {
   "cell_type": "markdown",
   "id": "bc53637e",
   "metadata": {
    "papermill": {
     "duration": 0.005229,
     "end_time": "2024-12-26T19:25:34.856175",
     "exception": false,
     "start_time": "2024-12-26T19:25:34.850946",
     "status": "completed"
    },
    "tags": []
   },
   "source": [
    "### Tags Data"
   ]
  },
  {
   "cell_type": "code",
   "execution_count": 9,
   "id": "61eaf096",
   "metadata": {
    "execution": {
     "iopub.execute_input": "2024-12-26T19:25:34.867565Z",
     "iopub.status.busy": "2024-12-26T19:25:34.867352Z",
     "iopub.status.idle": "2024-12-26T19:25:34.874735Z",
     "shell.execute_reply": "2024-12-26T19:25:34.873920Z"
    },
    "papermill": {
     "duration": 0.014426,
     "end_time": "2024-12-26T19:25:34.875954",
     "exception": false,
     "start_time": "2024-12-26T19:25:34.861528",
     "status": "completed"
    },
    "tags": []
   },
   "outputs": [
    {
     "name": "stdout",
     "output_type": "stream",
     "text": [
      "<class 'pandas.core.frame.DataFrame'>\n",
      "RangeIndex: 3683 entries, 0 to 3682\n",
      "Data columns (total 4 columns):\n",
      " #   Column     Non-Null Count  Dtype \n",
      "---  ------     --------------  ----- \n",
      " 0   userId     3683 non-null   int64 \n",
      " 1   movieId    3683 non-null   int64 \n",
      " 2   tag        3683 non-null   object\n",
      " 3   timestamp  3683 non-null   int64 \n",
      "dtypes: int64(3), object(1)\n",
      "memory usage: 115.2+ KB\n"
     ]
    }
   ],
   "source": [
    "data_tags.info()"
   ]
  },
  {
   "cell_type": "code",
   "execution_count": 10,
   "id": "f2cbba88",
   "metadata": {
    "execution": {
     "iopub.execute_input": "2024-12-26T19:25:34.887976Z",
     "iopub.status.busy": "2024-12-26T19:25:34.887775Z",
     "iopub.status.idle": "2024-12-26T19:25:34.894380Z",
     "shell.execute_reply": "2024-12-26T19:25:34.893636Z"
    },
    "papermill": {
     "duration": 0.014113,
     "end_time": "2024-12-26T19:25:34.895605",
     "exception": false,
     "start_time": "2024-12-26T19:25:34.881492",
     "status": "completed"
    },
    "tags": []
   },
   "outputs": [
    {
     "data": {
      "text/html": [
       "<div>\n",
       "<style scoped>\n",
       "    .dataframe tbody tr th:only-of-type {\n",
       "        vertical-align: middle;\n",
       "    }\n",
       "\n",
       "    .dataframe tbody tr th {\n",
       "        vertical-align: top;\n",
       "    }\n",
       "\n",
       "    .dataframe thead th {\n",
       "        text-align: right;\n",
       "    }\n",
       "</style>\n",
       "<table border=\"1\" class=\"dataframe\">\n",
       "  <thead>\n",
       "    <tr style=\"text-align: right;\">\n",
       "      <th></th>\n",
       "      <th>userId</th>\n",
       "      <th>movieId</th>\n",
       "      <th>tag</th>\n",
       "      <th>timestamp</th>\n",
       "    </tr>\n",
       "  </thead>\n",
       "  <tbody>\n",
       "    <tr>\n",
       "      <th>0</th>\n",
       "      <td>2</td>\n",
       "      <td>60756</td>\n",
       "      <td>funny</td>\n",
       "      <td>1445714994</td>\n",
       "    </tr>\n",
       "    <tr>\n",
       "      <th>1</th>\n",
       "      <td>2</td>\n",
       "      <td>60756</td>\n",
       "      <td>Highly quotable</td>\n",
       "      <td>1445714996</td>\n",
       "    </tr>\n",
       "    <tr>\n",
       "      <th>2</th>\n",
       "      <td>2</td>\n",
       "      <td>60756</td>\n",
       "      <td>will ferrell</td>\n",
       "      <td>1445714992</td>\n",
       "    </tr>\n",
       "    <tr>\n",
       "      <th>3</th>\n",
       "      <td>2</td>\n",
       "      <td>89774</td>\n",
       "      <td>Boxing story</td>\n",
       "      <td>1445715207</td>\n",
       "    </tr>\n",
       "    <tr>\n",
       "      <th>4</th>\n",
       "      <td>2</td>\n",
       "      <td>89774</td>\n",
       "      <td>MMA</td>\n",
       "      <td>1445715200</td>\n",
       "    </tr>\n",
       "  </tbody>\n",
       "</table>\n",
       "</div>"
      ],
      "text/plain": [
       "   userId  movieId              tag   timestamp\n",
       "0       2    60756            funny  1445714994\n",
       "1       2    60756  Highly quotable  1445714996\n",
       "2       2    60756     will ferrell  1445714992\n",
       "3       2    89774     Boxing story  1445715207\n",
       "4       2    89774              MMA  1445715200"
      ]
     },
     "execution_count": 10,
     "metadata": {},
     "output_type": "execute_result"
    }
   ],
   "source": [
    "data_tags.head(5)"
   ]
  },
  {
   "cell_type": "code",
   "execution_count": 11,
   "id": "635258f4",
   "metadata": {
    "execution": {
     "iopub.execute_input": "2024-12-26T19:25:34.907638Z",
     "iopub.status.busy": "2024-12-26T19:25:34.907428Z",
     "iopub.status.idle": "2024-12-26T19:25:34.911182Z",
     "shell.execute_reply": "2024-12-26T19:25:34.910399Z"
    },
    "papermill": {
     "duration": 0.011156,
     "end_time": "2024-12-26T19:25:34.912325",
     "exception": false,
     "start_time": "2024-12-26T19:25:34.901169",
     "status": "completed"
    },
    "tags": []
   },
   "outputs": [],
   "source": [
    "data_links['tmdbId'].fillna(-1, inplace=True)"
   ]
  },
  {
   "cell_type": "markdown",
   "id": "309c22f6",
   "metadata": {
    "papermill": {
     "duration": 0.005352,
     "end_time": "2024-12-26T19:25:34.923235",
     "exception": false,
     "start_time": "2024-12-26T19:25:34.917883",
     "status": "completed"
    },
    "tags": []
   },
   "source": [
    "#### From the exploration we conclude that we only need ratings and movies data for our system"
   ]
  },
  {
   "cell_type": "markdown",
   "id": "911539a4",
   "metadata": {
    "papermill": {
     "duration": 0.005338,
     "end_time": "2024-12-26T19:25:34.934200",
     "exception": false,
     "start_time": "2024-12-26T19:25:34.928862",
     "status": "completed"
    },
    "tags": []
   },
   "source": [
    "## Preproccessing"
   ]
  },
  {
   "cell_type": "markdown",
   "id": "8bef4f17",
   "metadata": {
    "papermill": {
     "duration": 0.00553,
     "end_time": "2024-12-26T19:25:34.945371",
     "exception": false,
     "start_time": "2024-12-26T19:25:34.939841",
     "status": "completed"
    },
    "tags": []
   },
   "source": [
    "### Merging Datasets"
   ]
  },
  {
   "cell_type": "code",
   "execution_count": 12,
   "id": "fd817dd9",
   "metadata": {
    "execution": {
     "iopub.execute_input": "2024-12-26T19:25:34.957165Z",
     "iopub.status.busy": "2024-12-26T19:25:34.956967Z",
     "iopub.status.idle": "2024-12-26T19:25:34.981474Z",
     "shell.execute_reply": "2024-12-26T19:25:34.980915Z"
    },
    "papermill": {
     "duration": 0.03175,
     "end_time": "2024-12-26T19:25:34.982633",
     "exception": false,
     "start_time": "2024-12-26T19:25:34.950883",
     "status": "completed"
    },
    "tags": []
   },
   "outputs": [],
   "source": [
    "merged_data = pd.merge(data_ratings, data_movies, on='movieId')"
   ]
  },
  {
   "cell_type": "code",
   "execution_count": 13,
   "id": "1d6a5448",
   "metadata": {
    "execution": {
     "iopub.execute_input": "2024-12-26T19:25:34.995176Z",
     "iopub.status.busy": "2024-12-26T19:25:34.994944Z",
     "iopub.status.idle": "2024-12-26T19:25:35.003513Z",
     "shell.execute_reply": "2024-12-26T19:25:35.002855Z"
    },
    "papermill": {
     "duration": 0.016206,
     "end_time": "2024-12-26T19:25:35.004812",
     "exception": false,
     "start_time": "2024-12-26T19:25:34.988606",
     "status": "completed"
    },
    "tags": []
   },
   "outputs": [
    {
     "data": {
      "text/html": [
       "<div>\n",
       "<style scoped>\n",
       "    .dataframe tbody tr th:only-of-type {\n",
       "        vertical-align: middle;\n",
       "    }\n",
       "\n",
       "    .dataframe tbody tr th {\n",
       "        vertical-align: top;\n",
       "    }\n",
       "\n",
       "    .dataframe thead th {\n",
       "        text-align: right;\n",
       "    }\n",
       "</style>\n",
       "<table border=\"1\" class=\"dataframe\">\n",
       "  <thead>\n",
       "    <tr style=\"text-align: right;\">\n",
       "      <th></th>\n",
       "      <th>userId</th>\n",
       "      <th>movieId</th>\n",
       "      <th>rating</th>\n",
       "      <th>timestamp</th>\n",
       "      <th>title</th>\n",
       "      <th>genres</th>\n",
       "    </tr>\n",
       "  </thead>\n",
       "  <tbody>\n",
       "    <tr>\n",
       "      <th>0</th>\n",
       "      <td>1</td>\n",
       "      <td>1</td>\n",
       "      <td>4.0</td>\n",
       "      <td>964982703</td>\n",
       "      <td>Toy Story (1995)</td>\n",
       "      <td>Adventure|Animation|Children|Comedy|Fantasy</td>\n",
       "    </tr>\n",
       "    <tr>\n",
       "      <th>1</th>\n",
       "      <td>5</td>\n",
       "      <td>1</td>\n",
       "      <td>4.0</td>\n",
       "      <td>847434962</td>\n",
       "      <td>Toy Story (1995)</td>\n",
       "      <td>Adventure|Animation|Children|Comedy|Fantasy</td>\n",
       "    </tr>\n",
       "    <tr>\n",
       "      <th>2</th>\n",
       "      <td>7</td>\n",
       "      <td>1</td>\n",
       "      <td>4.5</td>\n",
       "      <td>1106635946</td>\n",
       "      <td>Toy Story (1995)</td>\n",
       "      <td>Adventure|Animation|Children|Comedy|Fantasy</td>\n",
       "    </tr>\n",
       "    <tr>\n",
       "      <th>3</th>\n",
       "      <td>15</td>\n",
       "      <td>1</td>\n",
       "      <td>2.5</td>\n",
       "      <td>1510577970</td>\n",
       "      <td>Toy Story (1995)</td>\n",
       "      <td>Adventure|Animation|Children|Comedy|Fantasy</td>\n",
       "    </tr>\n",
       "    <tr>\n",
       "      <th>4</th>\n",
       "      <td>17</td>\n",
       "      <td>1</td>\n",
       "      <td>4.5</td>\n",
       "      <td>1305696483</td>\n",
       "      <td>Toy Story (1995)</td>\n",
       "      <td>Adventure|Animation|Children|Comedy|Fantasy</td>\n",
       "    </tr>\n",
       "    <tr>\n",
       "      <th>5</th>\n",
       "      <td>18</td>\n",
       "      <td>1</td>\n",
       "      <td>3.5</td>\n",
       "      <td>1455209816</td>\n",
       "      <td>Toy Story (1995)</td>\n",
       "      <td>Adventure|Animation|Children|Comedy|Fantasy</td>\n",
       "    </tr>\n",
       "    <tr>\n",
       "      <th>6</th>\n",
       "      <td>19</td>\n",
       "      <td>1</td>\n",
       "      <td>4.0</td>\n",
       "      <td>965705637</td>\n",
       "      <td>Toy Story (1995)</td>\n",
       "      <td>Adventure|Animation|Children|Comedy|Fantasy</td>\n",
       "    </tr>\n",
       "    <tr>\n",
       "      <th>7</th>\n",
       "      <td>21</td>\n",
       "      <td>1</td>\n",
       "      <td>3.5</td>\n",
       "      <td>1407618878</td>\n",
       "      <td>Toy Story (1995)</td>\n",
       "      <td>Adventure|Animation|Children|Comedy|Fantasy</td>\n",
       "    </tr>\n",
       "    <tr>\n",
       "      <th>8</th>\n",
       "      <td>27</td>\n",
       "      <td>1</td>\n",
       "      <td>3.0</td>\n",
       "      <td>962685262</td>\n",
       "      <td>Toy Story (1995)</td>\n",
       "      <td>Adventure|Animation|Children|Comedy|Fantasy</td>\n",
       "    </tr>\n",
       "    <tr>\n",
       "      <th>9</th>\n",
       "      <td>31</td>\n",
       "      <td>1</td>\n",
       "      <td>5.0</td>\n",
       "      <td>850466616</td>\n",
       "      <td>Toy Story (1995)</td>\n",
       "      <td>Adventure|Animation|Children|Comedy|Fantasy</td>\n",
       "    </tr>\n",
       "  </tbody>\n",
       "</table>\n",
       "</div>"
      ],
      "text/plain": [
       "   userId  movieId  rating   timestamp             title  \\\n",
       "0       1        1     4.0   964982703  Toy Story (1995)   \n",
       "1       5        1     4.0   847434962  Toy Story (1995)   \n",
       "2       7        1     4.5  1106635946  Toy Story (1995)   \n",
       "3      15        1     2.5  1510577970  Toy Story (1995)   \n",
       "4      17        1     4.5  1305696483  Toy Story (1995)   \n",
       "5      18        1     3.5  1455209816  Toy Story (1995)   \n",
       "6      19        1     4.0   965705637  Toy Story (1995)   \n",
       "7      21        1     3.5  1407618878  Toy Story (1995)   \n",
       "8      27        1     3.0   962685262  Toy Story (1995)   \n",
       "9      31        1     5.0   850466616  Toy Story (1995)   \n",
       "\n",
       "                                        genres  \n",
       "0  Adventure|Animation|Children|Comedy|Fantasy  \n",
       "1  Adventure|Animation|Children|Comedy|Fantasy  \n",
       "2  Adventure|Animation|Children|Comedy|Fantasy  \n",
       "3  Adventure|Animation|Children|Comedy|Fantasy  \n",
       "4  Adventure|Animation|Children|Comedy|Fantasy  \n",
       "5  Adventure|Animation|Children|Comedy|Fantasy  \n",
       "6  Adventure|Animation|Children|Comedy|Fantasy  \n",
       "7  Adventure|Animation|Children|Comedy|Fantasy  \n",
       "8  Adventure|Animation|Children|Comedy|Fantasy  \n",
       "9  Adventure|Animation|Children|Comedy|Fantasy  "
      ]
     },
     "execution_count": 13,
     "metadata": {},
     "output_type": "execute_result"
    }
   ],
   "source": [
    "merged_data.head(10)"
   ]
  },
  {
   "cell_type": "markdown",
   "id": "ed0c55af",
   "metadata": {
    "papermill": {
     "duration": 0.00558,
     "end_time": "2024-12-26T19:25:35.016192",
     "exception": false,
     "start_time": "2024-12-26T19:25:35.010612",
     "status": "completed"
    },
    "tags": []
   },
   "source": [
    "### Removing |"
   ]
  },
  {
   "cell_type": "code",
   "execution_count": 14,
   "id": "59b2ce0c",
   "metadata": {
    "execution": {
     "iopub.execute_input": "2024-12-26T19:25:35.028316Z",
     "iopub.status.busy": "2024-12-26T19:25:35.028109Z",
     "iopub.status.idle": "2024-12-26T19:25:35.085749Z",
     "shell.execute_reply": "2024-12-26T19:25:35.085149Z"
    },
    "papermill": {
     "duration": 0.065134,
     "end_time": "2024-12-26T19:25:35.086977",
     "exception": false,
     "start_time": "2024-12-26T19:25:35.021843",
     "status": "completed"
    },
    "tags": []
   },
   "outputs": [],
   "source": [
    "merged_data['genres'] = merged_data['genres'].apply(lambda x: ' '.join(sorted(x.split('|'))))"
   ]
  },
  {
   "cell_type": "code",
   "execution_count": 15,
   "id": "6b738339",
   "metadata": {
    "execution": {
     "iopub.execute_input": "2024-12-26T19:25:35.100352Z",
     "iopub.status.busy": "2024-12-26T19:25:35.100153Z",
     "iopub.status.idle": "2024-12-26T19:25:35.108246Z",
     "shell.execute_reply": "2024-12-26T19:25:35.107460Z"
    },
    "papermill": {
     "duration": 0.016019,
     "end_time": "2024-12-26T19:25:35.109482",
     "exception": false,
     "start_time": "2024-12-26T19:25:35.093463",
     "status": "completed"
    },
    "tags": []
   },
   "outputs": [
    {
     "data": {
      "text/html": [
       "<div>\n",
       "<style scoped>\n",
       "    .dataframe tbody tr th:only-of-type {\n",
       "        vertical-align: middle;\n",
       "    }\n",
       "\n",
       "    .dataframe tbody tr th {\n",
       "        vertical-align: top;\n",
       "    }\n",
       "\n",
       "    .dataframe thead th {\n",
       "        text-align: right;\n",
       "    }\n",
       "</style>\n",
       "<table border=\"1\" class=\"dataframe\">\n",
       "  <thead>\n",
       "    <tr style=\"text-align: right;\">\n",
       "      <th></th>\n",
       "      <th>userId</th>\n",
       "      <th>movieId</th>\n",
       "      <th>rating</th>\n",
       "      <th>timestamp</th>\n",
       "      <th>title</th>\n",
       "      <th>genres</th>\n",
       "    </tr>\n",
       "  </thead>\n",
       "  <tbody>\n",
       "    <tr>\n",
       "      <th>0</th>\n",
       "      <td>1</td>\n",
       "      <td>1</td>\n",
       "      <td>4.0</td>\n",
       "      <td>964982703</td>\n",
       "      <td>Toy Story (1995)</td>\n",
       "      <td>Adventure Animation Children Comedy Fantasy</td>\n",
       "    </tr>\n",
       "    <tr>\n",
       "      <th>1</th>\n",
       "      <td>5</td>\n",
       "      <td>1</td>\n",
       "      <td>4.0</td>\n",
       "      <td>847434962</td>\n",
       "      <td>Toy Story (1995)</td>\n",
       "      <td>Adventure Animation Children Comedy Fantasy</td>\n",
       "    </tr>\n",
       "    <tr>\n",
       "      <th>2</th>\n",
       "      <td>7</td>\n",
       "      <td>1</td>\n",
       "      <td>4.5</td>\n",
       "      <td>1106635946</td>\n",
       "      <td>Toy Story (1995)</td>\n",
       "      <td>Adventure Animation Children Comedy Fantasy</td>\n",
       "    </tr>\n",
       "    <tr>\n",
       "      <th>3</th>\n",
       "      <td>15</td>\n",
       "      <td>1</td>\n",
       "      <td>2.5</td>\n",
       "      <td>1510577970</td>\n",
       "      <td>Toy Story (1995)</td>\n",
       "      <td>Adventure Animation Children Comedy Fantasy</td>\n",
       "    </tr>\n",
       "    <tr>\n",
       "      <th>4</th>\n",
       "      <td>17</td>\n",
       "      <td>1</td>\n",
       "      <td>4.5</td>\n",
       "      <td>1305696483</td>\n",
       "      <td>Toy Story (1995)</td>\n",
       "      <td>Adventure Animation Children Comedy Fantasy</td>\n",
       "    </tr>\n",
       "  </tbody>\n",
       "</table>\n",
       "</div>"
      ],
      "text/plain": [
       "   userId  movieId  rating   timestamp             title  \\\n",
       "0       1        1     4.0   964982703  Toy Story (1995)   \n",
       "1       5        1     4.0   847434962  Toy Story (1995)   \n",
       "2       7        1     4.5  1106635946  Toy Story (1995)   \n",
       "3      15        1     2.5  1510577970  Toy Story (1995)   \n",
       "4      17        1     4.5  1305696483  Toy Story (1995)   \n",
       "\n",
       "                                        genres  \n",
       "0  Adventure Animation Children Comedy Fantasy  \n",
       "1  Adventure Animation Children Comedy Fantasy  \n",
       "2  Adventure Animation Children Comedy Fantasy  \n",
       "3  Adventure Animation Children Comedy Fantasy  \n",
       "4  Adventure Animation Children Comedy Fantasy  "
      ]
     },
     "execution_count": 15,
     "metadata": {},
     "output_type": "execute_result"
    }
   ],
   "source": [
    "merged_data.head(5)"
   ]
  },
  {
   "cell_type": "code",
   "execution_count": 16,
   "id": "270f8bf7",
   "metadata": {
    "execution": {
     "iopub.execute_input": "2024-12-26T19:25:35.121955Z",
     "iopub.status.busy": "2024-12-26T19:25:35.121753Z",
     "iopub.status.idle": "2024-12-26T19:25:35.138000Z",
     "shell.execute_reply": "2024-12-26T19:25:35.137201Z"
    },
    "papermill": {
     "duration": 0.023729,
     "end_time": "2024-12-26T19:25:35.139180",
     "exception": false,
     "start_time": "2024-12-26T19:25:35.115451",
     "status": "completed"
    },
    "tags": []
   },
   "outputs": [
    {
     "name": "stdout",
     "output_type": "stream",
     "text": [
      "<class 'pandas.core.frame.DataFrame'>\n",
      "RangeIndex: 100836 entries, 0 to 100835\n",
      "Data columns (total 6 columns):\n",
      " #   Column     Non-Null Count   Dtype  \n",
      "---  ------     --------------   -----  \n",
      " 0   userId     100836 non-null  int64  \n",
      " 1   movieId    100836 non-null  int64  \n",
      " 2   rating     100836 non-null  float64\n",
      " 3   timestamp  100836 non-null  int64  \n",
      " 4   title      100836 non-null  object \n",
      " 5   genres     100836 non-null  object \n",
      "dtypes: float64(1), int64(3), object(2)\n",
      "memory usage: 4.6+ MB\n"
     ]
    }
   ],
   "source": [
    "merged_data.info()"
   ]
  },
  {
   "cell_type": "markdown",
   "id": "90b35ec1",
   "metadata": {
    "papermill": {
     "duration": 0.005688,
     "end_time": "2024-12-26T19:25:35.150932",
     "exception": false,
     "start_time": "2024-12-26T19:25:35.145244",
     "status": "completed"
    },
    "tags": []
   },
   "source": [
    "# DL Model"
   ]
  },
  {
   "cell_type": "markdown",
   "id": "4b213de9",
   "metadata": {
    "papermill": {
     "duration": 0.005664,
     "end_time": "2024-12-26T19:25:35.162522",
     "exception": false,
     "start_time": "2024-12-26T19:25:35.156858",
     "status": "completed"
    },
    "tags": []
   },
   "source": [
    "## Model Design"
   ]
  },
  {
   "cell_type": "code",
   "execution_count": 17,
   "id": "29d13be4",
   "metadata": {
    "execution": {
     "iopub.execute_input": "2024-12-26T19:25:35.175136Z",
     "iopub.status.busy": "2024-12-26T19:25:35.174914Z",
     "iopub.status.idle": "2024-12-26T19:25:35.179399Z",
     "shell.execute_reply": "2024-12-26T19:25:35.178634Z"
    },
    "papermill": {
     "duration": 0.012013,
     "end_time": "2024-12-26T19:25:35.180557",
     "exception": false,
     "start_time": "2024-12-26T19:25:35.168544",
     "status": "completed"
    },
    "tags": []
   },
   "outputs": [],
   "source": [
    "class MovieDataset(Dataset):\n",
    "    \"\"\"Custom Dataset for loading movie ratings\"\"\"\n",
    "    def __init__(self, user_ids, movie_ids, ratings):\n",
    "        self.user_ids = torch.tensor(user_ids, dtype=torch.long)\n",
    "        self.movie_ids = torch.tensor(movie_ids, dtype=torch.long)\n",
    "        self.ratings = torch.tensor(ratings, dtype=torch.float32)\n",
    "        \n",
    "    def __len__(self):\n",
    "        return len(self.ratings)\n",
    "    \n",
    "    def __getitem__(self, idx):\n",
    "        return (self.user_ids[idx], self.movie_ids[idx], self.ratings[idx])"
   ]
  },
  {
   "cell_type": "code",
   "execution_count": 18,
   "id": "819b436c",
   "metadata": {
    "execution": {
     "iopub.execute_input": "2024-12-26T19:25:35.193298Z",
     "iopub.status.busy": "2024-12-26T19:25:35.193077Z",
     "iopub.status.idle": "2024-12-26T19:25:35.201598Z",
     "shell.execute_reply": "2024-12-26T19:25:35.200842Z"
    },
    "papermill": {
     "duration": 0.016246,
     "end_time": "2024-12-26T19:25:35.202850",
     "exception": false,
     "start_time": "2024-12-26T19:25:35.186604",
     "status": "completed"
    },
    "tags": []
   },
   "outputs": [],
   "source": [
    "class NCF(nn.Module):\n",
    "    def __init__(self, num_users, num_items, embedding_dim=16, layers=[128, 64, 32]):\n",
    "        super(NCF, self).__init__()\n",
    "        \n",
    "        # GMF layers\n",
    "        self.user_embedding_gmf = nn.Embedding(num_users, embedding_dim)\n",
    "        self.item_embedding_gmf = nn.Embedding(num_items, embedding_dim)\n",
    "        \n",
    "        # MLP layers\n",
    "        self.user_embedding_mlp = nn.Embedding(num_users, embedding_dim)\n",
    "        self.item_embedding_mlp = nn.Embedding(num_items, embedding_dim)\n",
    "        \n",
    "        # MLP layers\n",
    "        self.mlp = nn.ModuleList()\n",
    "        input_dim = 2 * embedding_dim\n",
    "        for layer_size in layers:\n",
    "            self.mlp.append(nn.Linear(input_dim, layer_size))\n",
    "            self.mlp.append(nn.ReLU())\n",
    "            self.mlp.append(nn.BatchNorm1d(layer_size))\n",
    "            self.mlp.append(nn.Dropout(p=0.3))\n",
    "            input_dim = layer_size\n",
    "            \n",
    "        # Output layer\n",
    "        self.output = nn.Linear(layers[-1] + embedding_dim, 1)\n",
    "        self.sigmoid = nn.Sigmoid()\n",
    "        \n",
    "        # Initialize weights\n",
    "        self._init_weight_()\n",
    "        \n",
    "    def _init_weight_(self):\n",
    "        nn.init.normal_(self.user_embedding_gmf.weight, std=0.01)\n",
    "        nn.init.normal_(self.item_embedding_gmf.weight, std=0.01)\n",
    "        nn.init.normal_(self.user_embedding_mlp.weight, std=0.01)\n",
    "        nn.init.normal_(self.item_embedding_mlp.weight, std=0.01)\n",
    "        \n",
    "        for layer in self.mlp:\n",
    "            if isinstance(layer, nn.Linear):\n",
    "                nn.init.xavier_uniform_(layer.weight)\n",
    "                \n",
    "        nn.init.xavier_uniform_(self.output.weight)\n",
    "        \n",
    "    def forward(self, user_indices, item_indices):\n",
    "        # GMF part\n",
    "        user_embedding_gmf = self.user_embedding_gmf(user_indices)\n",
    "        item_embedding_gmf = self.item_embedding_gmf(item_indices)\n",
    "        gmf_vector = user_embedding_gmf * item_embedding_gmf\n",
    "        \n",
    "        # MLP part\n",
    "        user_embedding_mlp = self.user_embedding_mlp(user_indices)\n",
    "        item_embedding_mlp = self.item_embedding_mlp(item_indices)\n",
    "        mlp_vector = torch.cat([user_embedding_mlp, item_embedding_mlp], dim=-1)\n",
    "        \n",
    "        for layer in self.mlp:\n",
    "            mlp_vector = layer(mlp_vector)\n",
    "            \n",
    "        # Concatenate GMF and MLP parts\n",
    "        vector = torch.cat([gmf_vector, mlp_vector], dim=-1)\n",
    "        \n",
    "        # Output layer\n",
    "        rating = self.sigmoid(self.output(vector))\n",
    "        return rating.squeeze()"
   ]
  },
  {
   "cell_type": "code",
   "execution_count": 19,
   "id": "4a4d0fc5",
   "metadata": {
    "execution": {
     "iopub.execute_input": "2024-12-26T19:25:35.215868Z",
     "iopub.status.busy": "2024-12-26T19:25:35.215636Z",
     "iopub.status.idle": "2024-12-26T19:25:35.228908Z",
     "shell.execute_reply": "2024-12-26T19:25:35.228279Z"
    },
    "papermill": {
     "duration": 0.021268,
     "end_time": "2024-12-26T19:25:35.230082",
     "exception": false,
     "start_time": "2024-12-26T19:25:35.208814",
     "status": "completed"
    },
    "tags": []
   },
   "outputs": [],
   "source": [
    "\n",
    "class MovieRecommender:\n",
    "    def __init__(self, data, embedding_dim=16, layers=[128, 64, 32], learning_rate=0.001, batch_size=1024):\n",
    "        \"\"\"\n",
    "        Initialize the NCF-based movie recommender\n",
    "        \n",
    "        Parameters:\n",
    "        data (pd.DataFrame): DataFrame with columns userId, movieId, rating, title, genres\n",
    "        \"\"\"\n",
    "        self.data = data\n",
    "        self.embedding_dim = embedding_dim\n",
    "        self.layers = layers\n",
    "        self.learning_rate = learning_rate\n",
    "        self.batch_size = batch_size\n",
    "        \n",
    "        # Store movie information\n",
    "        self.movie_info = data[['movieId', 'title', 'genres']].drop_duplicates().set_index('movieId')\n",
    "        \n",
    "        # Create user and movie mappings\n",
    "        self.user_mapping = {id: idx for idx, id in enumerate(data['userId'].unique())}\n",
    "        self.movie_mapping = {id: idx for idx, id in enumerate(data['movieId'].unique())}\n",
    "        self.reverse_user_mapping = {v: k for k, v in self.user_mapping.items()}\n",
    "        self.reverse_movie_mapping = {v: k for k, v in self.movie_mapping.items()}\n",
    "        \n",
    "        # Initialize model\n",
    "        self.device = torch.device('cuda' if torch.cuda.is_available() else 'cpu')\n",
    "        self.model = NCF(\n",
    "            num_users=len(self.user_mapping),\n",
    "            num_items=len(self.movie_mapping),\n",
    "            embedding_dim=embedding_dim,\n",
    "            layers=layers\n",
    "        ).to(self.device)\n",
    "        \n",
    "        self.optimizer = optim.Adam(self.model.parameters(), lr=learning_rate, weight_decay=1e-5)\n",
    "        self.criterion = nn.MSELoss()\n",
    "        \n",
    "    def prepare_data(self):\n",
    "        \"\"\"Prepare data for training\"\"\"\n",
    "        # Map IDs to indices\n",
    "        user_ids = [self.user_mapping[id] for id in self.data['userId']]\n",
    "        movie_ids = [self.movie_mapping[id] for id in self.data['movieId']]\n",
    "        ratings = self.data['rating'].values / 5.0  # Normalize ratings to [0,1]\n",
    "        \n",
    "        # Split data\n",
    "        return train_test_split(user_ids, movie_ids, ratings, test_size=0.2, random_state=42)\n",
    "        \n",
    "    def train(self, num_epochs=10):\n",
    "        \"\"\"Train the model\"\"\"\n",
    "        print(f\"Training on {self.device}\")\n",
    "        \n",
    "        # Prepare data\n",
    "        train_users, val_users, train_movies, val_movies, train_ratings, val_ratings = self.prepare_data()\n",
    "        \n",
    "        # Create datasets\n",
    "        train_dataset = MovieDataset(train_users, train_movies, train_ratings)\n",
    "        train_loader = DataLoader(train_dataset, batch_size=self.batch_size, shuffle=True)\n",
    "        \n",
    "        val_dataset = MovieDataset(val_users, val_movies, val_ratings)\n",
    "        val_loader = DataLoader(val_dataset, batch_size=self.batch_size)\n",
    "        \n",
    "        # Training loop\n",
    "        best_val_loss = float('inf')\n",
    "        for epoch in range(num_epochs):\n",
    "            # Training phase\n",
    "            self.model.train()\n",
    "            total_loss = 0\n",
    "            for batch_users, batch_movies, batch_ratings in train_loader:\n",
    "                batch_users = batch_users.to(self.device)\n",
    "                batch_movies = batch_movies.to(self.device)\n",
    "                batch_ratings = batch_ratings.to(self.device)\n",
    "                \n",
    "                self.optimizer.zero_grad()\n",
    "                predictions = self.model(batch_users, batch_movies)\n",
    "                loss = self.criterion(predictions, batch_ratings)\n",
    "                loss.backward()\n",
    "                self.optimizer.step()\n",
    "                total_loss += loss.item()\n",
    "            \n",
    "            train_loss = total_loss / len(train_loader)\n",
    "            \n",
    "            # Validation phase\n",
    "            self.model.eval()\n",
    "            val_loss = 0\n",
    "            with torch.no_grad():\n",
    "                for batch_users, batch_movies, batch_ratings in val_loader:\n",
    "                    batch_users = batch_users.to(self.device)\n",
    "                    batch_movies = batch_movies.to(self.device)\n",
    "                    batch_ratings = batch_ratings.to(self.device)\n",
    "                    \n",
    "                    predictions = self.model(batch_users, batch_movies)\n",
    "                    loss = self.criterion(predictions, batch_ratings)\n",
    "                    val_loss += loss.item()\n",
    "            \n",
    "            val_loss = val_loss / len(val_loader)\n",
    "            \n",
    "            print(f\"Epoch {epoch+1}/{num_epochs}\")\n",
    "            print(f\"Train Loss: {train_loss:.4f}\")\n",
    "            print(f\"Val Loss: {val_loss:.4f}\")\n",
    "            \n",
    "            # Save best model\n",
    "            if val_loss < best_val_loss:\n",
    "                best_val_loss = val_loss\n",
    "                torch.save(self.model.state_dict(), 'best_model.pth')\n",
    "            \n",
    "            # Clear memory\n",
    "            gc.collect()\n",
    "            if torch.cuda.is_available():\n",
    "                torch.cuda.empty_cache()\n",
    "            \n",
    "    def get_recommendations(self, user_id, n_recommendations=10):\n",
    "        \"\"\"Get recommendations for a user\"\"\"\n",
    "        self.model.eval()\n",
    "        if user_id not in self.user_mapping:\n",
    "            return []\n",
    "        \n",
    "        user_idx = self.user_mapping[user_id]\n",
    "        user_tensor = torch.tensor([user_idx] * len(self.movie_mapping), device=self.device)\n",
    "        movie_tensor = torch.tensor(list(range(len(self.movie_mapping))), device=self.device)\n",
    "        \n",
    "        with torch.no_grad():\n",
    "            predictions = self.model(user_tensor, movie_tensor)\n",
    "            \n",
    "        # Get top N recommendations\n",
    "        recommendations = []\n",
    "        movie_scores = [(self.reverse_movie_mapping[idx], score.item() * 5.0) \n",
    "                       for idx, score in enumerate(predictions)]\n",
    "        \n",
    "        # Sort by predicted rating and get top N\n",
    "        for movie_id, pred_rating in sorted(movie_scores, key=lambda x: x[1], reverse=True)[:n_recommendations]:\n",
    "            title = self.movie_info.loc[movie_id, 'title']\n",
    "            genres = self.movie_info.loc[movie_id, 'genres']\n",
    "            recommendations.append({\n",
    "                'movie_id': movie_id,\n",
    "                'title': title,\n",
    "                'genres': genres,\n",
    "                'predicted_rating': pred_rating\n",
    "            })\n",
    "            \n",
    "        return recommendations"
   ]
  },
  {
   "cell_type": "code",
   "execution_count": 20,
   "id": "04d1d00d",
   "metadata": {
    "execution": {
     "iopub.execute_input": "2024-12-26T19:25:35.242865Z",
     "iopub.status.busy": "2024-12-26T19:25:35.242621Z",
     "iopub.status.idle": "2024-12-26T19:25:35.245351Z",
     "shell.execute_reply": "2024-12-26T19:25:35.244810Z"
    },
    "papermill": {
     "duration": 0.010164,
     "end_time": "2024-12-26T19:25:35.246393",
     "exception": false,
     "start_time": "2024-12-26T19:25:35.236229",
     "status": "completed"
    },
    "tags": []
   },
   "outputs": [],
   "source": [
    "def create_recommender(data):\n",
    "    \"\"\"Helper function to create and return a recommender instance\"\"\"\n",
    "    return MovieRecommender(data)"
   ]
  },
  {
   "cell_type": "markdown",
   "id": "21ce70f6",
   "metadata": {
    "papermill": {
     "duration": 0.005819,
     "end_time": "2024-12-26T19:25:35.258231",
     "exception": false,
     "start_time": "2024-12-26T19:25:35.252412",
     "status": "completed"
    },
    "tags": []
   },
   "source": [
    "## Model Training"
   ]
  },
  {
   "cell_type": "code",
   "execution_count": 21,
   "id": "a1c82f72",
   "metadata": {
    "execution": {
     "iopub.execute_input": "2024-12-26T19:25:35.270770Z",
     "iopub.status.busy": "2024-12-26T19:25:35.270522Z",
     "iopub.status.idle": "2024-12-26T19:25:51.342210Z",
     "shell.execute_reply": "2024-12-26T19:25:51.341239Z"
    },
    "papermill": {
     "duration": 16.079688,
     "end_time": "2024-12-26T19:25:51.343850",
     "exception": false,
     "start_time": "2024-12-26T19:25:35.264162",
     "status": "completed"
    },
    "tags": []
   },
   "outputs": [
    {
     "name": "stdout",
     "output_type": "stream",
     "text": [
      "Training on cuda\n",
      "Epoch 1/10\n",
      "Train Loss: 0.0876\n",
      "Val Loss: 0.0495\n",
      "Epoch 2/10\n",
      "Train Loss: 0.0484\n",
      "Val Loss: 0.0355\n",
      "Epoch 3/10\n",
      "Train Loss: 0.0375\n",
      "Val Loss: 0.0332\n",
      "Epoch 4/10\n",
      "Train Loss: 0.0333\n",
      "Val Loss: 0.0327\n",
      "Epoch 5/10\n",
      "Train Loss: 0.0313\n",
      "Val Loss: 0.0328\n",
      "Epoch 6/10\n",
      "Train Loss: 0.0301\n",
      "Val Loss: 0.0323\n",
      "Epoch 7/10\n",
      "Train Loss: 0.0293\n",
      "Val Loss: 0.0316\n",
      "Epoch 8/10\n",
      "Train Loss: 0.0285\n",
      "Val Loss: 0.0313\n",
      "Epoch 9/10\n",
      "Train Loss: 0.0280\n",
      "Val Loss: 0.0307\n",
      "Epoch 10/10\n",
      "Train Loss: 0.0274\n",
      "Val Loss: 0.0305\n"
     ]
    }
   ],
   "source": [
    "recommender = create_recommender(merged_data)\n",
    "recommender.train(num_epochs=10)"
   ]
  },
  {
   "cell_type": "code",
   "execution_count": 22,
   "id": "f7ae5f7b",
   "metadata": {
    "execution": {
     "iopub.execute_input": "2024-12-26T19:25:51.358972Z",
     "iopub.status.busy": "2024-12-26T19:25:51.358594Z",
     "iopub.status.idle": "2024-12-26T19:25:51.488295Z",
     "shell.execute_reply": "2024-12-26T19:25:51.487430Z"
    },
    "papermill": {
     "duration": 0.138684,
     "end_time": "2024-12-26T19:25:51.489521",
     "exception": false,
     "start_time": "2024-12-26T19:25:51.350837",
     "status": "completed"
    },
    "tags": []
   },
   "outputs": [
    {
     "name": "stdout",
     "output_type": "stream",
     "text": [
      "Title: My Architect: A Son's Journey (2003)\n",
      "Predicted Rating: 4.91\n",
      "Genres: Documentary\n",
      "\n",
      "Title: Galaxy of Terror (Quest) (1981)\n",
      "Predicted Rating: 4.88\n",
      "Genres: Action Horror Mystery Sci-Fi\n",
      "\n",
      "Title: A Perfect Day (2015)\n",
      "Predicted Rating: 4.87\n",
      "Genres: Comedy Drama\n",
      "\n",
      "Title: Scooby-Doo Goes Hollywood (1979)\n",
      "Predicted Rating: 4.87\n",
      "Genres: Animation Children Comedy\n",
      "\n",
      "Title: Hangar 18 (1980)\n",
      "Predicted Rating: 4.87\n",
      "Genres: Action Sci-Fi Thriller\n",
      "\n",
      "Title: Master of the Flying Guillotine (Du bi quan wang da po xue di zi) (1975)\n",
      "Predicted Rating: 4.86\n",
      "Genres: Action\n",
      "\n",
      "Title: Jump In! (2007)\n",
      "Predicted Rating: 4.86\n",
      "Genres: Comedy Drama Romance\n",
      "\n",
      "Title: Siam Sunset (1999)\n",
      "Predicted Rating: 4.85\n",
      "Genres: Comedy\n",
      "\n",
      "Title: Slumber Party Massacre II (1987)\n",
      "Predicted Rating: 4.85\n",
      "Genres: Horror\n",
      "\n",
      "Title: Submarine (2010)\n",
      "Predicted Rating: 4.84\n",
      "Genres: Comedy Drama Romance\n",
      "\n"
     ]
    }
   ],
   "source": [
    "recommendations = recommender.get_recommendations(user_id=1, n_recommendations=10)\n",
    "\n",
    "# Display recommendations\n",
    "for rec in recommendations:\n",
    "    print(f\"Title: {rec['title']}\")\n",
    "    print(f\"Predicted Rating: {rec['predicted_rating']:.2f}\")\n",
    "    print(f\"Genres: {rec['genres']}\")\n",
    "    print()"
   ]
  }
 ],
 "metadata": {
  "kaggle": {
   "accelerator": "nvidiaTeslaT4",
   "dataSources": [
    {
     "datasetId": 60876,
     "sourceId": 118283,
     "sourceType": "datasetVersion"
    }
   ],
   "dockerImageVersionId": 30823,
   "isGpuEnabled": true,
   "isInternetEnabled": true,
   "language": "python",
   "sourceType": "notebook"
  },
  "kernelspec": {
   "display_name": "Python 3",
   "language": "python",
   "name": "python3"
  },
  "language_info": {
   "codemirror_mode": {
    "name": "ipython",
    "version": 3
   },
   "file_extension": ".py",
   "mimetype": "text/x-python",
   "name": "python",
   "nbconvert_exporter": "python",
   "pygments_lexer": "ipython3",
   "version": "3.10.12"
  },
  "papermill": {
   "default_parameters": {},
   "duration": 24.853562,
   "end_time": "2024-12-26T19:25:52.816343",
   "environment_variables": {},
   "exception": null,
   "input_path": "__notebook__.ipynb",
   "output_path": "__notebook__.ipynb",
   "parameters": {},
   "start_time": "2024-12-26T19:25:27.962781",
   "version": "2.6.0"
  }
 },
 "nbformat": 4,
 "nbformat_minor": 5
}
